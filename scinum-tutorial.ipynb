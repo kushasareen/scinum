{
 "cells": [
  {
   "cell_type": "code",
   "execution_count": 3,
   "metadata": {},
   "outputs": [
    {
     "name": "stdout",
     "output_type": "stream",
     "text": [
      "Warning, arrays are not the same size, expanding dims...\n",
      "[[0.004 0.001]\n",
      " [0.008 0.002]\n",
      " [0.012 0.003]\n",
      " [0.016 0.004]\n",
      " [0.02  0.005]]\n",
      "Warning, arrays are not the same size, expanding dims...\n",
      "\\begin{tabular}{rl}\n",
      "\\hline\n",
      "   Count & Angular Velocity   \\\\\n",
      "\\hline\n",
      "       1 & 0.004 (0.001)      \\\\\n",
      "       2 & 0.008 (0.002)      \\\\\n",
      "       3 & 0.012 (0.003)      \\\\\n",
      "       4 & 0.016 (0.004)      \\\\\n",
      "       5 & 0.020 (0.005)      \\\\\n",
      "\\hline\n",
      "\\end{tabular}\n"
     ]
    }
   ],
   "source": [
    "count = scinum([1,2,3,4,5], 0)\n",
    "rad = scinum([2], uncer = 0.5)\n",
    "\n",
    "print(count*rad*0.002)\n",
    "\n",
    "scinum.table([count, count*rad*0.002], [\"Count\", \"Angular Velocity\"], fmt = \"latex\")"
   ]
  },
  {
   "cell_type": "code",
   "execution_count": 4,
   "metadata": {},
   "outputs": [
    {
     "name": "stdout",
     "output_type": "stream",
     "text": [
      "| data p        | data q   | data r     |\n",
      "|---------------|----------|------------|\n",
      "| 1.000 (0.004) | 10 (2)   | 9.5 (0.4)  |\n",
      "| 2.034 (0.004) | 23 (2)   | 22 (1)     |\n",
      "| 3.034 (0.004) | 30 (2)   | 29 (2)     |\n",
      "| 4.035 (0.004) | 40 (2)   | 40.8 (0.5) |\n",
      "| 5.034 (0.004) | 50 (2)   | 49 (3)     |\n"
     ]
    }
   ],
   "source": [
    "data = [1.0,2.0345,3.0345,4.0345,5.0345]\n",
    "data2 = [10.1,23.1,30.1,40.1,50.1]\n",
    "\n",
    "p = scinum(data, uncer = 0.004)\n",
    "q = scinum(data2, uncer = 2)\n",
    "r = scinum(data2, uncer = 2)\n",
    "\n",
    "def s(x):\n",
    "    return np.sin(x) + x \n",
    "\n",
    "r = r.func(s)\n",
    "\n",
    "scinum.table([p,q,r], [\"data p\", \"data q\", \"data r\"])"
   ]
  },
  {
   "cell_type": "code",
   "execution_count": 5,
   "metadata": {},
   "outputs": [
    {
     "name": "stdout",
     "output_type": "stream",
     "text": [
      "[[  18.26372704   21.70001267]\n",
      " [-136.80706017   99.42505909]]\n"
     ]
    }
   ],
   "source": [
    "def test(x,y,z):\n",
    "    return np.exp(z)*np.sin(y)*x**2\n",
    "\n",
    "a = scinum([1, 3], uncer = 0.5)\n",
    "b = scinum([2, 4], uncer = 0.1)\n",
    "c = scinum([3, 3], uncer = 0.64)\n",
    "\n",
    "print(scinum.f(test, a, b, c))"
   ]
  },
  {
   "cell_type": "code",
   "execution_count": 8,
   "metadata": {},
   "outputs": [
    {
     "name": "stdout",
     "output_type": "stream",
     "text": [
      "[[6.        0.8182909]]\n",
      "[[6.        0.8182909]]\n",
      "[[6.        0.8182909]]\n"
     ]
    }
   ],
   "source": [
    "a = scinum([1], uncer = 0.5)\n",
    "b = scinum([2], uncer = 0.1)\n",
    "c = scinum([3], uncer = 0.64)\n",
    "\n",
    "print(a+b+c)\n",
    "x = a+b\n",
    "print(x+c)\n",
    "\n",
    "def k(x,y,z):\n",
    "    return x + y + z\n",
    "\n",
    "print(scinum.f(k, a, b, c))"
   ]
  }
 ],
 "metadata": {
  "kernelspec": {
   "display_name": "Python 3",
   "language": "python",
   "name": "python3"
  },
  "language_info": {
   "codemirror_mode": {
    "name": "ipython",
    "version": 3
   },
   "file_extension": ".py",
   "mimetype": "text/x-python",
   "name": "python",
   "nbconvert_exporter": "python",
   "pygments_lexer": "ipython3",
   "version": "3.7.4"
  }
 },
 "nbformat": 4,
 "nbformat_minor": 2
}
